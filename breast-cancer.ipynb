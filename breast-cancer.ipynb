{
 "cells": [
  {
   "cell_type": "code",
   "execution_count": 178,
   "metadata": {},
   "outputs": [],
   "source": [
    "# Import relevant packages\n",
    "import numpy as np\n",
    "import cvxpy as cp\n",
    "import matplotlib.pyplot as plt\n",
    "import pandas as pd"
   ]
  },
  {
   "cell_type": "code",
   "execution_count": 179,
   "metadata": {},
   "outputs": [
    {
     "data": {
      "text/html": [
       "<div>\n",
       "<style scoped>\n",
       "    .dataframe tbody tr th:only-of-type {\n",
       "        vertical-align: middle;\n",
       "    }\n",
       "\n",
       "    .dataframe tbody tr th {\n",
       "        vertical-align: top;\n",
       "    }\n",
       "\n",
       "    .dataframe thead th {\n",
       "        text-align: right;\n",
       "    }\n",
       "</style>\n",
       "<table border=\"1\" class=\"dataframe\">\n",
       "  <thead>\n",
       "    <tr style=\"text-align: right;\">\n",
       "      <th></th>\n",
       "      <th>id</th>\n",
       "      <th>diagnosis</th>\n",
       "      <th>radius_mean</th>\n",
       "      <th>texture_mean</th>\n",
       "      <th>perimeter_mean</th>\n",
       "      <th>area_mean</th>\n",
       "      <th>smoothness_mean</th>\n",
       "      <th>compactness_mean</th>\n",
       "      <th>concavity_mean</th>\n",
       "      <th>concave points_mean</th>\n",
       "      <th>...</th>\n",
       "      <th>texture_worst</th>\n",
       "      <th>perimeter_worst</th>\n",
       "      <th>area_worst</th>\n",
       "      <th>smoothness_worst</th>\n",
       "      <th>compactness_worst</th>\n",
       "      <th>concavity_worst</th>\n",
       "      <th>concave points_worst</th>\n",
       "      <th>symmetry_worst</th>\n",
       "      <th>fractal_dimension_worst</th>\n",
       "      <th>Unnamed: 32</th>\n",
       "    </tr>\n",
       "  </thead>\n",
       "  <tbody>\n",
       "    <tr>\n",
       "      <th>0</th>\n",
       "      <td>842302</td>\n",
       "      <td>1</td>\n",
       "      <td>17.99</td>\n",
       "      <td>10.38</td>\n",
       "      <td>122.80</td>\n",
       "      <td>1001.0</td>\n",
       "      <td>0.11840</td>\n",
       "      <td>0.27760</td>\n",
       "      <td>0.3001</td>\n",
       "      <td>0.14710</td>\n",
       "      <td>...</td>\n",
       "      <td>17.33</td>\n",
       "      <td>184.60</td>\n",
       "      <td>2019.0</td>\n",
       "      <td>0.1622</td>\n",
       "      <td>0.6656</td>\n",
       "      <td>0.7119</td>\n",
       "      <td>0.2654</td>\n",
       "      <td>0.4601</td>\n",
       "      <td>0.11890</td>\n",
       "      <td>NaN</td>\n",
       "    </tr>\n",
       "    <tr>\n",
       "      <th>1</th>\n",
       "      <td>842517</td>\n",
       "      <td>1</td>\n",
       "      <td>20.57</td>\n",
       "      <td>17.77</td>\n",
       "      <td>132.90</td>\n",
       "      <td>1326.0</td>\n",
       "      <td>0.08474</td>\n",
       "      <td>0.07864</td>\n",
       "      <td>0.0869</td>\n",
       "      <td>0.07017</td>\n",
       "      <td>...</td>\n",
       "      <td>23.41</td>\n",
       "      <td>158.80</td>\n",
       "      <td>1956.0</td>\n",
       "      <td>0.1238</td>\n",
       "      <td>0.1866</td>\n",
       "      <td>0.2416</td>\n",
       "      <td>0.1860</td>\n",
       "      <td>0.2750</td>\n",
       "      <td>0.08902</td>\n",
       "      <td>NaN</td>\n",
       "    </tr>\n",
       "    <tr>\n",
       "      <th>2</th>\n",
       "      <td>84300903</td>\n",
       "      <td>1</td>\n",
       "      <td>19.69</td>\n",
       "      <td>21.25</td>\n",
       "      <td>130.00</td>\n",
       "      <td>1203.0</td>\n",
       "      <td>0.10960</td>\n",
       "      <td>0.15990</td>\n",
       "      <td>0.1974</td>\n",
       "      <td>0.12790</td>\n",
       "      <td>...</td>\n",
       "      <td>25.53</td>\n",
       "      <td>152.50</td>\n",
       "      <td>1709.0</td>\n",
       "      <td>0.1444</td>\n",
       "      <td>0.4245</td>\n",
       "      <td>0.4504</td>\n",
       "      <td>0.2430</td>\n",
       "      <td>0.3613</td>\n",
       "      <td>0.08758</td>\n",
       "      <td>NaN</td>\n",
       "    </tr>\n",
       "    <tr>\n",
       "      <th>3</th>\n",
       "      <td>84348301</td>\n",
       "      <td>1</td>\n",
       "      <td>11.42</td>\n",
       "      <td>20.38</td>\n",
       "      <td>77.58</td>\n",
       "      <td>386.1</td>\n",
       "      <td>0.14250</td>\n",
       "      <td>0.28390</td>\n",
       "      <td>0.2414</td>\n",
       "      <td>0.10520</td>\n",
       "      <td>...</td>\n",
       "      <td>26.50</td>\n",
       "      <td>98.87</td>\n",
       "      <td>567.7</td>\n",
       "      <td>0.2098</td>\n",
       "      <td>0.8663</td>\n",
       "      <td>0.6869</td>\n",
       "      <td>0.2575</td>\n",
       "      <td>0.6638</td>\n",
       "      <td>0.17300</td>\n",
       "      <td>NaN</td>\n",
       "    </tr>\n",
       "    <tr>\n",
       "      <th>4</th>\n",
       "      <td>84358402</td>\n",
       "      <td>1</td>\n",
       "      <td>20.29</td>\n",
       "      <td>14.34</td>\n",
       "      <td>135.10</td>\n",
       "      <td>1297.0</td>\n",
       "      <td>0.10030</td>\n",
       "      <td>0.13280</td>\n",
       "      <td>0.1980</td>\n",
       "      <td>0.10430</td>\n",
       "      <td>...</td>\n",
       "      <td>16.67</td>\n",
       "      <td>152.20</td>\n",
       "      <td>1575.0</td>\n",
       "      <td>0.1374</td>\n",
       "      <td>0.2050</td>\n",
       "      <td>0.4000</td>\n",
       "      <td>0.1625</td>\n",
       "      <td>0.2364</td>\n",
       "      <td>0.07678</td>\n",
       "      <td>NaN</td>\n",
       "    </tr>\n",
       "  </tbody>\n",
       "</table>\n",
       "<p>5 rows × 33 columns</p>\n",
       "</div>"
      ],
      "text/plain": [
       "         id  diagnosis  radius_mean  texture_mean  perimeter_mean  area_mean  \\\n",
       "0    842302          1        17.99         10.38          122.80     1001.0   \n",
       "1    842517          1        20.57         17.77          132.90     1326.0   \n",
       "2  84300903          1        19.69         21.25          130.00     1203.0   \n",
       "3  84348301          1        11.42         20.38           77.58      386.1   \n",
       "4  84358402          1        20.29         14.34          135.10     1297.0   \n",
       "\n",
       "   smoothness_mean  compactness_mean  concavity_mean  concave points_mean  \\\n",
       "0          0.11840           0.27760          0.3001              0.14710   \n",
       "1          0.08474           0.07864          0.0869              0.07017   \n",
       "2          0.10960           0.15990          0.1974              0.12790   \n",
       "3          0.14250           0.28390          0.2414              0.10520   \n",
       "4          0.10030           0.13280          0.1980              0.10430   \n",
       "\n",
       "      ...       texture_worst  perimeter_worst  area_worst  smoothness_worst  \\\n",
       "0     ...               17.33           184.60      2019.0            0.1622   \n",
       "1     ...               23.41           158.80      1956.0            0.1238   \n",
       "2     ...               25.53           152.50      1709.0            0.1444   \n",
       "3     ...               26.50            98.87       567.7            0.2098   \n",
       "4     ...               16.67           152.20      1575.0            0.1374   \n",
       "\n",
       "   compactness_worst  concavity_worst  concave points_worst  symmetry_worst  \\\n",
       "0             0.6656           0.7119                0.2654          0.4601   \n",
       "1             0.1866           0.2416                0.1860          0.2750   \n",
       "2             0.4245           0.4504                0.2430          0.3613   \n",
       "3             0.8663           0.6869                0.2575          0.6638   \n",
       "4             0.2050           0.4000                0.1625          0.2364   \n",
       "\n",
       "   fractal_dimension_worst  Unnamed: 32  \n",
       "0                  0.11890          NaN  \n",
       "1                  0.08902          NaN  \n",
       "2                  0.08758          NaN  \n",
       "3                  0.17300          NaN  \n",
       "4                  0.07678          NaN  \n",
       "\n",
       "[5 rows x 33 columns]"
      ]
     },
     "execution_count": 179,
     "metadata": {},
     "output_type": "execute_result"
    }
   ],
   "source": [
    "# Load the data\n",
    "data = pd.read_csv('data.csv')\n",
    "# Process the data\n",
    "for i in range(len(data)):\n",
    "    if data.iloc[i, 1] == 'M':\n",
    "        data.iloc[i, 1] = 1\n",
    "    else:\n",
    "        data.iloc[i, 1] = 0\n",
    "# Take a look at the data\n",
    "data.head()"
   ]
  },
  {
   "cell_type": "code",
   "execution_count": 180,
   "metadata": {},
   "outputs": [],
   "source": [
    "# Divide the dataset into training and test set\n",
    "X = np.array(data.iloc[:350, 2:32])\n",
    "Y = np.array(data.iloc[:350, 1])\n",
    "X_test = np.array(data.iloc[350:, 2:32])\n",
    "Y_test = np.array(data.iloc[350:, 1])\n",
    "\n",
    "# Dimension of training set, 350 observations and 30 independent variables\n",
    "m = 30\n",
    "n = 350\n",
    "# Number of lambdas\n",
    "N = 100"
   ]
  },
  {
   "cell_type": "markdown",
   "metadata": {},
   "source": [
    "# Logistic Regression"
   ]
  },
  {
   "cell_type": "code",
   "execution_count": 181,
   "metadata": {},
   "outputs": [],
   "source": [
    "# Formulate the optimization problem\n",
    "def logistic(Y, X, m, n, lamb):\n",
    "    # Define variables\n",
    "    beta = cp.Variable(m)\n",
    "    s = cp.Variable(m)\n",
    "    # Log-likelihood function\n",
    "    log_likelihood = cp.sum(\n",
    "        cp.multiply(Y, X @ beta) - cp.logistic(X @ beta)\n",
    "    )\n",
    "    # Minimize the negate of the log-likelihood\n",
    "    objective = cp.Minimize(-log_likelihood/m + lamb * cp.sum(s))\n",
    "    # Constraints for slack variable\n",
    "    constraints = [beta <= s, beta >= -s, s >= 0]\n",
    "    # Formulate the problem\n",
    "    problem = cp.Problem(objective, constraints)\n",
    "    \n",
    "    # Get the optimal value\n",
    "    return problem.solve(), beta.value"
   ]
  },
  {
   "cell_type": "code",
   "execution_count": 182,
   "metadata": {},
   "outputs": [],
   "source": [
    "# Predict the labels\n",
    "def pred(beta, X):\n",
    "    # Product between X and beta\n",
    "    ls = X @ beta\n",
    "    for i in range(len(ls)):\n",
    "        # Benign if negative\n",
    "        if ls[i] <= 0:\n",
    "            ls[i] = 0\n",
    "        # Malignant if positive\n",
    "        else:\n",
    "            ls[i] = 1\n",
    "    return ls\n",
    "\n",
    "# Error test\n",
    "def regression_error(pred, actual):\n",
    "    # If prediction is wrong, the difference between it and actual label is either -1 or 1\n",
    "    # Get the percentage of wrong predictions\n",
    "    return np.sum(np.abs(pred - actual)) / float(np.size(actual))"
   ]
  },
  {
   "cell_type": "code",
   "execution_count": 194,
   "metadata": {},
   "outputs": [],
   "source": [
    "# Simulation with different lambdas\n",
    "def logistic_sim(m, n, N, X, Y, X_test, Y_test):\n",
    "    # Store the results\n",
    "    error_train = []\n",
    "    error_test = []\n",
    "    lambda_ = np.logspace(-2, 0, N)\n",
    "    beta_vals = []\n",
    "    outcome_ls = []\n",
    "    for i in range(N):\n",
    "        # Run logistic regression\n",
    "        outcome, beta = logistic(Y, X, m, n, lambda_[i])\n",
    "        beta_vals.append(beta)\n",
    "        outcome_ls.append(outcome)\n",
    "        # Run predictions\n",
    "        predict_train = pred(beta, X)\n",
    "        predict_test = pred(beta, X_test)\n",
    "        # Run accuracy test\n",
    "        train_err = regression_error(predict_train, Y)\n",
    "        error_train.append(train_err)\n",
    "        test_err = regression_error(predict_test, Y_test)\n",
    "        error_test.append(test_err)\n",
    "    return beta_vals, outcome_ls, error_train, error_test"
   ]
  },
  {
   "cell_type": "code",
   "execution_count": 195,
   "metadata": {},
   "outputs": [],
   "source": [
    "beta_vals_log, outcome_ls_log, error_train_log, error_test_log = logistic_sim(m, n, N, X, Y, X_test, Y_test)"
   ]
  },
  {
   "cell_type": "code",
   "execution_count": 185,
   "metadata": {},
   "outputs": [
    {
     "name": "stdout",
     "output_type": "stream",
     "text": [
      "Training error for the first 20 lambdas is [0.03428571428571429, 0.03428571428571429, 0.03428571428571429, 0.03428571428571429, 0.037142857142857144, 0.037142857142857144, 0.03428571428571429, 0.03428571428571429, 0.03428571428571429, 0.03428571428571429, 0.03428571428571429, 0.03428571428571429, 0.037142857142857144, 0.037142857142857144, 0.037142857142857144, 0.037142857142857144, 0.037142857142857144, 0.037142857142857144, 0.037142857142857144, 0.037142857142857144]\n",
      "Test error for the first 20 lambdas is [0.0502283105022831, 0.0502283105022831, 0.0502283105022831, 0.0502283105022831, 0.0502283105022831, 0.0502283105022831, 0.0502283105022831, 0.0502283105022831, 0.0502283105022831, 0.0502283105022831, 0.0502283105022831, 0.0502283105022831, 0.0502283105022831, 0.0502283105022831, 0.045662100456621, 0.045662100456621, 0.045662100456621, 0.045662100456621, 0.045662100456621, 0.045662100456621]\n"
     ]
    }
   ],
   "source": [
    "print('Training error for the first 20 lambdas: {}'.format(error_train_log[:20]))\n",
    "print('Test error for the first 20 lambdas: {}'.format(error_test_log[:20]))"
   ]
  },
  {
   "cell_type": "code",
   "execution_count": 196,
   "metadata": {},
   "outputs": [
    {
     "data": {
      "text/plain": [
       "<matplotlib.legend.Legend at 0x822154710>"
      ]
     },
     "execution_count": 196,
     "metadata": {},
     "output_type": "execute_result"
    },
    {
     "data": {
      "image/png": "[encoded data removed]",
      "text/plain": [
       "<matplotlib.figure.Figure at 0x822136588>"
      ]
     },
     "metadata": {},
     "output_type": "display_data"
    }
   ],
   "source": [
    "# Error plot w.r.t lambda\n",
    "lambda_ls = np.logspace(-2, 0, N)\n",
    "plt.figure()\n",
    "plt.plot(lambda_ls, error_train_log, label='Train')\n",
    "plt.plot(lambda_ls, error_test_log, label='Test')\n",
    "plt.title('Error of logistic regression w.r.t regularization constant')\n",
    "plt.xlabel('Lambda')\n",
    "plt.ylabel('Error')\n",
    "plt.legend()"
   ]
  },
  {
   "cell_type": "code",
   "execution_count": 201,
   "metadata": {},
   "outputs": [
    {
     "data": {
      "text/plain": [
       "Text(0,0.5,'Max log-likelihood')"
      ]
     },
     "execution_count": 201,
     "metadata": {},
     "output_type": "execute_result"
    },
    {
     "data": {
      "image/png": "[encoded data removed]",
      "text/plain": [
       "<matplotlib.figure.Figure at 0x8223036a0>"
      ]
     },
     "metadata": {},
     "output_type": "display_data"
    }
   ],
   "source": [
    "# Maximum log-likelihood w.r.t lambda\n",
    "plt.figure()\n",
    "plt.plot(lambda_ls, -np.array(outcome_ls_log))\n",
    "plt.title('Maximum log-likelihood w.r.t regularization constant')\n",
    "plt.xlabel('Lambda')\n",
    "plt.ylabel('Max log-likelihood')"
   ]
  },
  {
   "cell_type": "code",
   "execution_count": 193,
   "metadata": {},
   "outputs": [
    {
     "data": {
      "text/plain": [
       "Text(0,0.5,'Value')"
      ]
     },
     "execution_count": 193,
     "metadata": {},
     "output_type": "execute_result"
    },
    {
     "data": {
      "image/png": "[encoded data removed]",
      "text/plain": [
       "<matplotlib.figure.Figure at 0x82036e898>"
      ]
     },
     "metadata": {},
     "output_type": "display_data"
    }
   ],
   "source": [
    "# Beta values w.r.t lambda\n",
    "plt.figure()\n",
    "for i in range(m):\n",
    "    plt.plot(lambda_ls, [each[i] for each in beta_vals_log])\n",
    "plt.title('Components of beta w.r.t regularization constant')\n",
    "plt.xscale('log')\n",
    "plt.xlabel('Lambda')\n",
    "plt.ylabel('Value')"
   ]
  },
  {
   "cell_type": "markdown",
   "metadata": {},
   "source": [
    "# SVM "
   ]
  },
  {
   "cell_type": "code",
   "execution_count": 202,
   "metadata": {},
   "outputs": [],
   "source": [
    "# Formulate the optimization problem\n",
    "def svm(Y, X, m, n, lamb):\n",
    "    # Define the variables\n",
    "    beta = cp.Variable((m,1))\n",
    "    v = cp.Variable()\n",
    "    s = cp.Variable((m, 1))\n",
    "    # Loss function\n",
    "    loss = cp.sum(cp.pos(1 - cp.multiply(Y, X*beta - v)))\n",
    "    # Minimize loss\n",
    "    objective = cp.Minimize(loss/n + lamb*cp.sum(s))\n",
    "    # Constraints for slack variable\n",
    "    constraints = [beta <= s, beta >= -s, s >= 0]\n",
    "    # Formulate the problem\n",
    "    problem = cp.Problem(objective, constraints)\n",
    "    # Get optimal values\n",
    "    return problem.solve(), beta.value, v.value"
   ]
  },
  {
   "cell_type": "code",
   "execution_count": 203,
   "metadata": {},
   "outputs": [],
   "source": [
    "# Predict the labels\n",
    "def pred_svm(beta, X, v):\n",
    "    f = X @ beta\n",
    "    ls = np.array([each[0] for each in f]) - v\n",
    "    for i in range(len(ls)):\n",
    "        # Benign if negative\n",
    "        if ls[i] <= 0:\n",
    "            ls[i] = -1\n",
    "        # Malignant if positive\n",
    "        else:\n",
    "            ls[i] = 1\n",
    "    return ls\n",
    "\n",
    "# Error of SVM\n",
    "def svm_error(pred, actual):\n",
    "    actual = [each[0] for each in actual]\n",
    "    # -1 and 1 are indicators, hence if predict and actual are different, their sum is zero\n",
    "    return len(np.where(pred + actual == 0)[0]) / float(np.size(actual))"
   ]
  },
  {
   "cell_type": "code",
   "execution_count": 204,
   "metadata": {},
   "outputs": [],
   "source": [
    "# Simulate SVM with different lambdas\n",
    "def svm_sim(m, n, N, X, Y, X_test, Y_test):\n",
    "    # Process data\n",
    "    for i in range(len(Y_test)):\n",
    "        if Y_test[i] == 0:\n",
    "            Y_test[i] = -1\n",
    "    Y_test = np.array([[each] for each in Y_test])\n",
    "    for i in range(len(Y)):\n",
    "        if Y[i] == 0:\n",
    "            Y[i] = -1\n",
    "    Y = np.array([[each] for each in Y])\n",
    "    \n",
    "    # Store the outcomes\n",
    "    error_train = []\n",
    "    error_test = []\n",
    "    lambda_ = np.logspace(-2, 0, N)\n",
    "    beta_vals = []\n",
    "    v_vals = []\n",
    "    outcome_ls = []\n",
    "    for i in range(N):\n",
    "        # Run SVM\n",
    "        outcome, beta, v = svm(Y, X, m, n, lambda_[i])\n",
    "        beta_vals.append(beta)\n",
    "        v_vals.append(v)\n",
    "        outcome_ls.append(outcome)\n",
    "        # Run predictions\n",
    "        predict_train = pred_svm(beta, X, v)\n",
    "        predict_test = pred_svm(beta, X_test, v)\n",
    "        # Run error test\n",
    "        train_err = svm_error(predict_train, Y)\n",
    "        error_train.append(train_err)\n",
    "        test_err = svm_error(predict_test, Y_test)\n",
    "        error_test.append(test_err)\n",
    "#     actual = [each[0] for each in Y]\n",
    "    return beta_vals, outcome_ls, error_train, error_test"
   ]
  },
  {
   "cell_type": "code",
   "execution_count": 205,
   "metadata": {},
   "outputs": [],
   "source": [
    "beta_vals_svm, outcome_ls_svm, error_train_svm, error_test_svm = svm_sim(m, n, 100, X, Y, X_test, Y_test)"
   ]
  },
  {
   "cell_type": "code",
   "execution_count": 206,
   "metadata": {},
   "outputs": [
    {
     "name": "stdout",
     "output_type": "stream",
     "text": [
      "Training error for the first 20 lambdas: [0.04285714285714286, 0.04285714285714286, 0.04285714285714286, 0.04, 0.04, 0.04, 0.04, 0.04, 0.04, 0.04, 0.04, 0.04, 0.04, 0.037142857142857144, 0.037142857142857144, 0.037142857142857144, 0.037142857142857144, 0.037142857142857144, 0.037142857142857144, 0.037142857142857144]\n",
      "Test error for the first 20 lambdas: [0.0730593607305936, 0.0730593607305936, 0.0730593607305936, 0.0776255707762557, 0.0776255707762557, 0.0776255707762557, 0.0776255707762557, 0.0776255707762557, 0.0776255707762557, 0.0684931506849315, 0.0684931506849315, 0.0684931506849315, 0.0684931506849315, 0.0684931506849315, 0.0684931506849315, 0.0684931506849315, 0.0684931506849315, 0.0684931506849315, 0.0684931506849315, 0.0684931506849315]\n"
     ]
    }
   ],
   "source": [
    "print('Training error for the first 20 lambdas: {}'.format(error_train_svm[:20]))\n",
    "print('Test error for the first 20 lambdas: {}'.format(error_test_svm[:20]))"
   ]
  },
  {
   "cell_type": "code",
   "execution_count": 207,
   "metadata": {},
   "outputs": [
    {
     "data": {
      "text/plain": [
       "<matplotlib.legend.Legend at 0x822637080>"
      ]
     },
     "execution_count": 207,
     "metadata": {},
     "output_type": "execute_result"
    },
    {
     "data": {
      "image/png": "[encoded data removed]",
      "text/plain": [
       "<matplotlib.figure.Figure at 0x82231a588>"
      ]
     },
     "metadata": {},
     "output_type": "display_data"
    }
   ],
   "source": [
    "# Error plot w.r.t lambda\n",
    "lambda_ls = np.logspace(-2, 0, N)\n",
    "plt.figure()\n",
    "plt.plot(lambda_ls, error_train_svm, label='Train')\n",
    "plt.plot(lambda_ls, error_test_svm, label='Test')\n",
    "plt.title('Error of SVM w.r.t regularization constant')\n",
    "plt.xlabel('Lambda')\n",
    "plt.ylabel('Error')\n",
    "plt.legend()"
   ]
  },
  {
   "cell_type": "code",
   "execution_count": 209,
   "metadata": {},
   "outputs": [
    {
     "data": {
      "text/plain": [
       "Text(0,0.5,'Loss')"
      ]
     },
     "execution_count": 209,
     "metadata": {},
     "output_type": "execute_result"
    },
    {
     "data": {
      "image/png": "[encoded data removed]",
      "text/plain": [
       "<matplotlib.figure.Figure at 0x8225ff630>"
      ]
     },
     "metadata": {},
     "output_type": "display_data"
    }
   ],
   "source": [
    "# Loss function w.r.t lambda\n",
    "plt.figure()\n",
    "plt.plot(lambda_ls, outcome_ls_svm)\n",
    "plt.title('Loss function w.r.t regularization constant')\n",
    "plt.xlabel('Lambda')\n",
    "plt.ylabel('Loss')"
   ]
  },
  {
   "cell_type": "code",
   "execution_count": 210,
   "metadata": {},
   "outputs": [
    {
     "data": {
      "text/plain": [
       "Text(0,0.5,'Value')"
      ]
     },
     "execution_count": 210,
     "metadata": {},
     "output_type": "execute_result"
    },
    {
     "data": {
      "image/png": "[encoded data removed]",
      "text/plain": [
       "<matplotlib.figure.Figure at 0x822715e10>"
      ]
     },
     "metadata": {},
     "output_type": "display_data"
    }
   ],
   "source": [
    "# Beta values w.r.t lambda\n",
    "plt.figure()\n",
    "for i in range(m):\n",
    "    plt.plot(lambda_ls, [each[i] for each in beta_vals_svm])\n",
    "plt.title('Components of beta w.r.t regularization constant')\n",
    "plt.xscale('log')\n",
    "plt.xlabel('Lambda')\n",
    "plt.ylabel('Value')"
   ]
  },
  {
   "cell_type": "code",
   "execution_count": null,
   "metadata": {},
   "outputs": [],
   "source": []
  }
 ],
 "metadata": {
  "kernelspec": {
   "display_name": "Python 3",
   "language": "python",
   "name": "python3"
  },
  "language_info": {
   "codemirror_mode": {
    "name": "ipython",
    "version": 3
   },
   "file_extension": ".py",
   "mimetype": "text/x-python",
   "name": "python",
   "nbconvert_exporter": "python",
   "pygments_lexer": "ipython3",
   "version": "3.6.8"
  }
 },
 "nbformat": 4,
 "nbformat_minor": 2
}
